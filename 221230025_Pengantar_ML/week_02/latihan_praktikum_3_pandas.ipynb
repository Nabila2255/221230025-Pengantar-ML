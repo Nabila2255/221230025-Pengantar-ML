{
  "nbformat": 4,
  "nbformat_minor": 0,
  "metadata": {
    "colab": {
      "provenance": [],
      "authorship_tag": "ABX9TyO1dOAfEbcbkH2e87+w0ed/",
      "include_colab_link": true
    },
    "kernelspec": {
      "name": "python3",
      "display_name": "Python 3"
    },
    "language_info": {
      "name": "python"
    }
  },
  "cells": [
    {
      "cell_type": "markdown",
      "metadata": {
        "id": "view-in-github",
        "colab_type": "text"
      },
      "source": [
        "<a href=\"https://colab.research.google.com/github/Nabila2255/221230025-Pengantar-ML/blob/main/221230025_Pengantar_ML/week_02/latihan_praktikum_3_pandas.ipynb\" target=\"_parent\"><img src=\"https://colab.research.google.com/assets/colab-badge.svg\" alt=\"Open In Colab\"/></a>"
      ]
    },
    {
      "cell_type": "code",
      "execution_count": 1,
      "metadata": {
        "colab": {
          "base_uri": "https://localhost:8080/"
        },
        "id": "OH8x43iMmYWB",
        "outputId": "c14517ef-1de0-4218-9af0-97161972eefc"
      },
      "outputs": [
        {
          "output_type": "stream",
          "name": "stdout",
          "text": [
            "✅ Pandas operations completed\n",
            "\n",
            "=== Revenue per Product ===\n",
            "   product_id       revenue\n",
            "0           1  24953.204554\n",
            "1           2  28433.373576\n",
            "2           3  27360.489903\n",
            "3           4  23950.525430\n",
            "4           5  29894.628309\n",
            "\n",
            "=== Top 5 Customers ===\n",
            "    customer_id      revenue\n",
            "37           38  5239.536260\n",
            "58           59  5185.221233\n",
            "88           89  4759.149270\n",
            "93           94  4690.528278\n",
            "14           15  4657.289888\n",
            "\n",
            "=== Daily Revenue ===\n",
            "        date      revenue\n",
            "0 2023-01-01  5268.121555\n",
            "1 2023-01-02  4656.102661\n",
            "2 2023-01-03  3226.578585\n",
            "3 2023-01-04  2462.071219\n",
            "4 2023-01-05  3741.645829\n",
            "\n",
            "=== Sample Anomalies ===\n",
            "Empty DataFrame\n",
            "Columns: [date, product_id, quantity, price, customer_id, revenue]\n",
            "Index: []\n"
          ]
        }
      ],
      "source": [
        "import pandas as pd\n",
        "import numpy as np\n",
        "\n",
        "# Buat dataset retail\n",
        "np.random.seed(42)\n",
        "dates = pd.date_range('2023-01-01', '2023-03-31', freq='D')\n",
        "retail_data = pd.DataFrame({\n",
        "    'date': np.random.choice(dates, 1000),\n",
        "    'product_id': np.random.randint(1, 11, 1000),\n",
        "    'quantity': np.random.randint(1, 10, 1000),\n",
        "    'price': np.random.uniform(10, 100, 1000),\n",
        "    'customer_id': np.random.randint(1, 101, 1000)\n",
        "})\n",
        "retail_data['revenue'] = retail_data['quantity'] * retail_data['price']\n",
        "\n",
        "# TODO 1: Hitung total revenue per product\n",
        "revenue_per_product = retail_data.groupby('product_id')['revenue'].sum().reset_index()\n",
        "\n",
        "# TODO 2: Temukan top 5 customers berdasarkan total spending\n",
        "top_customers = (retail_data.groupby('customer_id')['revenue']\n",
        "                 .sum()\n",
        "                 .reset_index()\n",
        "                 .sort_values('revenue', ascending=False)\n",
        "                 .head(5))\n",
        "\n",
        "# TODO 3: Analisis time series - revenue per hari\n",
        "daily_revenue = (retail_data.groupby('date')['revenue']\n",
        "                 .sum()\n",
        "                 .reset_index()\n",
        "                 .sort_values('date'))\n",
        "\n",
        "# TODO 4: Buat fungsi untuk detect anomalies dalam quantity\n",
        "def detect_quantity_anomalies(df, threshold=2):\n",
        "    \"\"\"\n",
        "    Mendeteksi anomali quantity menggunakan Z-score.\n",
        "    threshold default = 2.\n",
        "    \"\"\"\n",
        "    mean = df['quantity'].mean()\n",
        "    std = df['quantity'].std()\n",
        "    z_scores = (df['quantity'] - mean) / std\n",
        "    anomalies = df[np.abs(z_scores) > threshold]\n",
        "    return anomalies\n",
        "\n",
        "anomalies = detect_quantity_anomalies(retail_data)\n",
        "\n",
        "# Validasi sesuai instruksi\n",
        "assert len(revenue_per_product) <= 10, \"Should have max 10 products\"\n",
        "assert len(top_customers) == 5, \"Should have top 5 customers\"\n",
        "\n",
        "print(\"✅ Pandas operations completed\")\n",
        "print(\"\\n=== Revenue per Product ===\")\n",
        "print(revenue_per_product.head())\n",
        "print(\"\\n=== Top 5 Customers ===\")\n",
        "print(top_customers)\n",
        "print(\"\\n=== Daily Revenue ===\")\n",
        "print(daily_revenue.head())\n",
        "print(\"\\n=== Sample Anomalies ===\")\n",
        "print(anomalies.head())"
      ]
    }
  ]
}