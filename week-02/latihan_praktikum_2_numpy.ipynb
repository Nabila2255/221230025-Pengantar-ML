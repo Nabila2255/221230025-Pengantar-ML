{
  "nbformat": 4,
  "nbformat_minor": 0,
  "metadata": {
    "colab": {
      "provenance": [],
      "authorship_tag": "ABX9TyPtNQttQnCa7pyVTug6sGyJ",
      "include_colab_link": true
    },
    "kernelspec": {
      "name": "python3",
      "display_name": "Python 3"
    },
    "language_info": {
      "name": "python"
    }
  },
  "cells": [
    {
      "cell_type": "markdown",
      "metadata": {
        "id": "view-in-github",
        "colab_type": "text"
      },
      "source": [
        "<a href=\"https://colab.research.google.com/github/Nabila2255/221230025-Pengantar-ML/blob/main/week-02/latihan_praktikum_2_numpy.ipynb\" target=\"_parent\"><img src=\"https://colab.research.google.com/assets/colab-badge.svg\" alt=\"Open In Colab\"/></a>"
      ]
    },
    {
      "cell_type": "code",
      "execution_count": null,
      "metadata": {
        "colab": {
          "base_uri": "https://localhost:8080/"
        },
        "id": "GpS9VH0biEwt",
        "outputId": "d4a2f48c-a19d-4f1b-8f71-09b5482b0aa6"
      },
      "outputs": [
        {
          "output_type": "stream",
          "name": "stdout",
          "text": [
            "✅ NumPy operations completed\n",
            "X_normalized:\n",
            " [[ 0.604418   -0.21979528  0.75746006  1.461092   -0.18919425]\n",
            " [-0.21141045  1.53420502  0.87977344 -0.62585547  0.53845484]\n",
            " [-0.46735006 -0.55422449  0.34303561 -2.13809665 -1.58578836]\n",
            " [-0.57771567 -1.1129603   0.41687036 -1.08519209 -1.2929218 ]\n",
            " [ 1.68601234 -0.30916828  0.16486193 -1.62640854 -0.47982667]]\n",
            "X_cleaned:\n",
            " [[ 0.604418   -0.21979528  0.75746006  1.461092   -0.18919425]\n",
            " [-0.21141045  1.53420502  0.87977344 -0.62585547  0.53845484]\n",
            " [-0.46735006 -0.55422449  0.34303561 -2.13809665 -1.58578836]\n",
            " [-0.57771567 -1.1129603   0.41687036 -1.08519209 -1.2929218 ]\n",
            " [ 1.68601234 -0.30916828  0.16486193 -1.62640854 -0.47982667]]\n",
            "One-hot labels:\n",
            " [[1. 0. 0.]\n",
            " [0. 1. 0.]\n",
            " [0. 0. 1.]\n",
            " [1. 0. 0.]\n",
            " [0. 1. 0.]\n",
            " [0. 0. 1.]\n",
            " [1. 0. 0.]]\n"
          ]
        }
      ],
      "source": [
        "import numpy as np\n",
        "\n",
        "# TODO 1: Normalisasi Z-score: (x - mean) / std\n",
        "def z_score_normalization(data):\n",
        "    \"\"\"\n",
        "    Melakukan normalisasi Z-score agar mean=0 dan std=1\n",
        "    \"\"\"\n",
        "    if data.size == 0:\n",
        "        raise ValueError(\"Input data tidak boleh kosong\")\n",
        "    mean = np.mean(data, axis=0)\n",
        "    std = np.std(data, axis=0)\n",
        "    return (data - mean) / std\n",
        "\n",
        "# TODO 2: Handle outliers - clip values beyond 3 std\n",
        "def handle_outliers(data, std_threshold=3):\n",
        "    \"\"\"\n",
        "    Mengganti nilai yang lebih dari threshold*std menjadi batas terdekat\n",
        "    \"\"\"\n",
        "    if data.size == 0:\n",
        "        raise ValueError(\"Input data tidak boleh kosong\")\n",
        "    mean = np.mean(data, axis=0)\n",
        "    std = np.std(data, axis=0)\n",
        "    lower = mean - std_threshold * std\n",
        "    upper = mean + std_threshold * std\n",
        "    return np.clip(data, lower, upper)\n",
        "\n",
        "# TODO 3: One-hot encoding untuk label kategorikal\n",
        "def one_hot_encoding(labels):\n",
        "    \"\"\"\n",
        "    Konversi label kategorikal ke bentuk one-hot encoding\n",
        "    Input: [0, 1, 2] -> Output: [[1,0,0],[0,1,0],[0,0,1]]\n",
        "    \"\"\"\n",
        "    if labels.size == 0:\n",
        "        raise ValueError(\"Labels tidak boleh kosong\")\n",
        "    n_classes = np.max(labels) + 1\n",
        "    return np.eye(n_classes)[labels]\n",
        "\n",
        "# TODO 4: Train-test split manual\n",
        "def train_test_split_numpy(X, y, test_size=0.2, seed=42):\n",
        "    \"\"\"\n",
        "    Membagi dataset menjadi train & test tanpa sklearn\n",
        "    \"\"\"\n",
        "    if len(X) != len(y):\n",
        "        raise ValueError(\"Jumlah X dan y harus sama\")\n",
        "    np.random.seed(seed)\n",
        "    indices = np.arange(len(X))\n",
        "    np.random.shuffle(indices)\n",
        "    test_size = int(len(X) * test_size)\n",
        "    test_idx = indices[:test_size]\n",
        "    train_idx = indices[test_size:]\n",
        "    return X[train_idx], X[test_idx], y[train_idx], y[test_idx]\n",
        "\n",
        "# ==== TEST IMPLEMENTASI ====\n",
        "np.random.seed(42)\n",
        "X = np.random.randn(100, 5) * 10 + 5  # Mean=5, Std=10\n",
        "\n",
        "X_normalized = z_score_normalization(X)\n",
        "X_cleaned = handle_outliers(X_normalized)\n",
        "labels = np.array([0, 1, 2, 0, 1, 2, 0])\n",
        "one_hot_labels = one_hot_encoding(labels)\n",
        "X_train, X_test, y_train, y_test = train_test_split_numpy(X, np.random.randint(0, 3, 100))\n",
        "\n",
        "# Assertion untuk validasi\n",
        "assert X_normalized.shape == X.shape, \"Shape should remain same\"\n",
        "assert np.allclose(X_normalized.mean(), 0, atol=1e-10), \"Mean should be ~0 after z-score\"\n",
        "assert np.allclose(X_normalized.std(), 1, atol=1e-10), \"Std should be ~1 after z-score\"\n",
        "\n",
        "print(\"✅ NumPy operations completed\")\n",
        "print(\"X_normalized:\\n\", X_normalized[:5])\n",
        "print(\"X_cleaned:\\n\", X_cleaned[:5])\n",
        "print(\"One-hot labels:\\n\", one_hot_labels)"
      ]
    }
  ]
}